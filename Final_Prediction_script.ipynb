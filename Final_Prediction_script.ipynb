{
 "cells": [
  {
   "cell_type": "markdown",
   "metadata": {},
   "source": [
    "# Initial Model #1\n",
    "#### By: Group 1 - Anthony Chung, Andrew Tropeano, Russel Coonrod, Jihao Yang\n",
    "- Table of content\n",
    "- Reading in data\n",
    "- Performing EDA\n",
    "- Dealing with missing\n",
    "- Dealing with outliers \n",
    "- Transforming variables\n",
    "- Feature Select\n",
    "- Perform Train_test_split on train data to model\n",
    "- Stacking models and performing CV\n",
    "\n",
    "### Above the Dataset\n",
    "- This dataset is from kaggle.com: Competition House Prices: Advanced Regression Techniques \n",
    "- We are given a dataset that consist of 79 features that will help us predict the house prices of Ames, Iowa! Fun!\n",
    "- The dataset consists of 81 attributes and 1460 observation"
   ]
  },
  {
   "cell_type": "code",
   "execution_count": 1,
   "metadata": {
    "collapsed": true
   },
   "outputs": [],
   "source": [
    "# import modules\n",
    "import pandas as pd\n",
    "import numpy as np\n",
    "import matplotlib.pyplot as plt\n",
    "import seaborn as sns"
   ]
  },
  {
   "cell_type": "code",
   "execution_count": 2,
   "metadata": {},
   "outputs": [
    {
     "data": {
      "text/plain": [
       "(2920, 54)"
      ]
     },
     "execution_count": 2,
     "metadata": {},
     "output_type": "execute_result"
    }
   ],
   "source": [
    "#Read in data\n",
    "df_train = pd.read_csv('train_new.csv')\n",
    "df_test = pd.read_csv('test_new.csv')\n",
    "#Save Id of each column to a different df\n",
    "train_id = df_train['Id']\n",
    "test_id = df_test['Id']\n",
    "#Dropping the test id for now\n",
    "df_train.drop(\"Id\", axis = 1, inplace = True)\n",
    "df_test.drop(\"Id\", axis = 1, inplace = True)\n",
    "#Check the shape of training\n",
    "\n",
    "\n",
    "#Getting test shape and train shape\n",
    "ntrain =  df_train.shape[0]\n",
    "ntest = df_test.shape[0]\n",
    "\n",
    "#Train sale price\n",
    "y_train = df_train['SalePrice'].values\n",
    "\n",
    "\n",
    "#Concatenate the two dataset to form all data\n",
    "all_data = pd.concat((df_train, df_test)).reset_index(drop=True)\n",
    "all_data.drop(['SalePrice'], axis=1, inplace=True)\n",
    "\n",
    "all_data.shape"
   ]
  },
  {
   "cell_type": "code",
   "execution_count": 3,
   "metadata": {},
   "outputs": [
    {
     "data": {
      "text/html": [
       "<div>\n",
       "<style>\n",
       "    .dataframe thead tr:only-child th {\n",
       "        text-align: right;\n",
       "    }\n",
       "\n",
       "    .dataframe thead th {\n",
       "        text-align: left;\n",
       "    }\n",
       "\n",
       "    .dataframe tbody tr th {\n",
       "        vertical-align: top;\n",
       "    }\n",
       "</style>\n",
       "<table border=\"1\" class=\"dataframe\">\n",
       "  <thead>\n",
       "    <tr style=\"text-align: right;\">\n",
       "      <th></th>\n",
       "      <th>RRAe</th>\n",
       "      <th>1Fam_BldgType</th>\n",
       "      <th>Overall_Total</th>\n",
       "      <th>BrkCmnArea</th>\n",
       "      <th>BrkFaceArea</th>\n",
       "      <th>StoneArea</th>\n",
       "      <th>Exter_Total</th>\n",
       "      <th>Bsmt_Total</th>\n",
       "      <th>Has_BsmtFin</th>\n",
       "      <th>BsmtFinSF_Total</th>\n",
       "      <th>SF_QualFinished</th>\n",
       "    </tr>\n",
       "  </thead>\n",
       "  <tbody>\n",
       "    <tr>\n",
       "      <th>count</th>\n",
       "      <td>1459.000000</td>\n",
       "      <td>1459.000000</td>\n",
       "      <td>1459.000000</td>\n",
       "      <td>1459.000000</td>\n",
       "      <td>1459.000000</td>\n",
       "      <td>1459.000000</td>\n",
       "      <td>1459.000000</td>\n",
       "      <td>1412.000000</td>\n",
       "      <td>1458.000000</td>\n",
       "      <td>1458.000000</td>\n",
       "      <td>1458.000000</td>\n",
       "    </tr>\n",
       "    <tr>\n",
       "      <th>mean</th>\n",
       "      <td>0.011652</td>\n",
       "      <td>0.825908</td>\n",
       "      <td>11.632625</td>\n",
       "      <td>0.803290</td>\n",
       "      <td>78.650446</td>\n",
       "      <td>19.888280</td>\n",
       "      <td>10.971899</td>\n",
       "      <td>11.140935</td>\n",
       "      <td>0.683128</td>\n",
       "      <td>491.823045</td>\n",
       "      <td>1981.819616</td>\n",
       "    </tr>\n",
       "    <tr>\n",
       "      <th>std</th>\n",
       "      <td>0.107350</td>\n",
       "      <td>0.379318</td>\n",
       "      <td>1.731474</td>\n",
       "      <td>11.281671</td>\n",
       "      <td>164.809192</td>\n",
       "      <td>85.514696</td>\n",
       "      <td>1.437268</td>\n",
       "      <td>1.656753</td>\n",
       "      <td>0.465417</td>\n",
       "      <td>478.467729</td>\n",
       "      <td>746.087254</td>\n",
       "    </tr>\n",
       "    <tr>\n",
       "      <th>min</th>\n",
       "      <td>0.000000</td>\n",
       "      <td>0.000000</td>\n",
       "      <td>3.000000</td>\n",
       "      <td>0.000000</td>\n",
       "      <td>0.000000</td>\n",
       "      <td>0.000000</td>\n",
       "      <td>5.000000</td>\n",
       "      <td>5.000000</td>\n",
       "      <td>0.000000</td>\n",
       "      <td>0.000000</td>\n",
       "      <td>407.000000</td>\n",
       "    </tr>\n",
       "    <tr>\n",
       "      <th>25%</th>\n",
       "      <td>0.000000</td>\n",
       "      <td>1.000000</td>\n",
       "      <td>11.000000</td>\n",
       "      <td>0.000000</td>\n",
       "      <td>0.000000</td>\n",
       "      <td>0.000000</td>\n",
       "      <td>10.000000</td>\n",
       "      <td>10.000000</td>\n",
       "      <td>0.000000</td>\n",
       "      <td>0.000000</td>\n",
       "      <td>1490.000000</td>\n",
       "    </tr>\n",
       "    <tr>\n",
       "      <th>50%</th>\n",
       "      <td>0.000000</td>\n",
       "      <td>1.000000</td>\n",
       "      <td>12.000000</td>\n",
       "      <td>0.000000</td>\n",
       "      <td>0.000000</td>\n",
       "      <td>0.000000</td>\n",
       "      <td>10.000000</td>\n",
       "      <td>12.000000</td>\n",
       "      <td>1.000000</td>\n",
       "      <td>453.000000</td>\n",
       "      <td>1836.000000</td>\n",
       "    </tr>\n",
       "    <tr>\n",
       "      <th>75%</th>\n",
       "      <td>0.000000</td>\n",
       "      <td>1.000000</td>\n",
       "      <td>13.000000</td>\n",
       "      <td>0.000000</td>\n",
       "      <td>90.500000</td>\n",
       "      <td>0.000000</td>\n",
       "      <td>12.000000</td>\n",
       "      <td>12.000000</td>\n",
       "      <td>1.000000</td>\n",
       "      <td>812.000000</td>\n",
       "      <td>2382.000000</td>\n",
       "    </tr>\n",
       "    <tr>\n",
       "      <th>max</th>\n",
       "      <td>1.000000</td>\n",
       "      <td>1.000000</td>\n",
       "      <td>17.000000</td>\n",
       "      <td>250.000000</td>\n",
       "      <td>1290.000000</td>\n",
       "      <td>1224.000000</td>\n",
       "      <td>18.000000</td>\n",
       "      <td>16.000000</td>\n",
       "      <td>1.000000</td>\n",
       "      <td>4010.000000</td>\n",
       "      <td>9105.000000</td>\n",
       "    </tr>\n",
       "  </tbody>\n",
       "</table>\n",
       "</div>"
      ],
      "text/plain": [
       "              RRAe  1Fam_BldgType  Overall_Total   BrkCmnArea  BrkFaceArea  \\\n",
       "count  1459.000000    1459.000000    1459.000000  1459.000000  1459.000000   \n",
       "mean      0.011652       0.825908      11.632625     0.803290    78.650446   \n",
       "std       0.107350       0.379318       1.731474    11.281671   164.809192   \n",
       "min       0.000000       0.000000       3.000000     0.000000     0.000000   \n",
       "25%       0.000000       1.000000      11.000000     0.000000     0.000000   \n",
       "50%       0.000000       1.000000      12.000000     0.000000     0.000000   \n",
       "75%       0.000000       1.000000      13.000000     0.000000    90.500000   \n",
       "max       1.000000       1.000000      17.000000   250.000000  1290.000000   \n",
       "\n",
       "         StoneArea  Exter_Total   Bsmt_Total  Has_BsmtFin  BsmtFinSF_Total  \\\n",
       "count  1459.000000  1459.000000  1412.000000  1458.000000      1458.000000   \n",
       "mean     19.888280    10.971899    11.140935     0.683128       491.823045   \n",
       "std      85.514696     1.437268     1.656753     0.465417       478.467729   \n",
       "min       0.000000     5.000000     5.000000     0.000000         0.000000   \n",
       "25%       0.000000    10.000000    10.000000     0.000000         0.000000   \n",
       "50%       0.000000    10.000000    12.000000     1.000000       453.000000   \n",
       "75%       0.000000    12.000000    12.000000     1.000000       812.000000   \n",
       "max    1224.000000    18.000000    16.000000     1.000000      4010.000000   \n",
       "\n",
       "       SF_QualFinished  \n",
       "count      1458.000000  \n",
       "mean       1981.819616  \n",
       "std         746.087254  \n",
       "min         407.000000  \n",
       "25%        1490.000000  \n",
       "50%        1836.000000  \n",
       "75%        2382.000000  \n",
       "max        9105.000000  "
      ]
     },
     "execution_count": 3,
     "metadata": {},
     "output_type": "execute_result"
    }
   ],
   "source": [
    "df_test.iloc[:,30:41].describe()"
   ]
  },
  {
   "cell_type": "code",
   "execution_count": 4,
   "metadata": {},
   "outputs": [
    {
     "data": {
      "image/png": "[encoded data removed]",
      "text/plain": [
       "<matplotlib.figure.Figure at 0x11401ed68>"
      ]
     },
     "metadata": {},
     "output_type": "display_data"
    }
   ],
   "source": [
    "#Do a correlation analysis on the data to look at correlations\n",
    "traincor = df_train.corr()\n",
    "plt.subplots(figsize=(12,9))\n",
    "sns.heatmap(traincor, vmax=0.9, square=True)\n",
    "plt.show()"
   ]
  },
  {
   "cell_type": "code",
   "execution_count": 5,
   "metadata": {},
   "outputs": [
    {
     "data": {
      "image/png": "[encoded data removed]",
      "text/plain": [
       "<matplotlib.figure.Figure at 0x1a19d8d5f8>"
      ]
     },
     "metadata": {},
     "output_type": "display_data"
    }
   ],
   "source": [
    "#Perform some EDA to look at the data\n",
    "#Plot sales price by the count of sale price\n",
    "g = sns.distplot(df_train['SalePrice'])\n",
    "plt.show()"
   ]
  },
  {
   "cell_type": "code",
   "execution_count": null,
   "metadata": {
    "collapsed": true
   },
   "outputs": [],
   "source": [
    "#Neighborhood vs Sale Price\n",
    "a4_dims = (20 ,10)\n",
    "fig, ax = plt.subplots(figsize=a4_dims)\n",
    "\n",
    "neighbor_box = sns.boxplot(ax=ax,x='Neighborhood', y='SalePrice', data=df_train)\n",
    "plt.show()"
   ]
  },
  {
   "cell_type": "code",
   "execution_count": null,
   "metadata": {
    "collapsed": true
   },
   "outputs": [],
   "source": [
    "fireplace = df_train[df_train['Fireplaces']==1]\n",
    "no_fire = df_train[df_train['Fireplaces']==0]\n",
    "\n",
    "#Fireplace and no fire place vs Sale Price\n",
    "Fireplace_col = sns.distplot(fireplace['SalePrice'], label='Yes FP')\n",
    "NoFireplace_col = sns.distplot(no_fire['SalePrice'], label='No FP')\n",
    "plt.legend()\n",
    "plt.show()"
   ]
  },
  {
   "cell_type": "code",
   "execution_count": null,
   "metadata": {
    "collapsed": true
   },
   "outputs": [],
   "source": [
    "#Ground living area, as we see the higher the living area, the higher the saleprice\n",
    "GrLivArea_box = sns.regplot(x='GrLivArea', y='SalePrice', data=df_train)\n",
    "plt.show()\n",
    "# Can Maybe drop the outliers in the bottom right"
   ]
  },
  {
   "cell_type": "markdown",
   "metadata": {},
   "source": [
    "## Looking at Missing Data"
   ]
  },
  {
   "cell_type": "code",
   "execution_count": null,
   "metadata": {
    "collapsed": true
   },
   "outputs": [],
   "source": [
    "#Looking of Missing Value in train\n",
    "all_data_NA = all_data.isnull()\n",
    "all_data_nan = all_data_NA[all_data_NA == 1].count()\n",
    "#Drop all columns that have no missing value \n",
    "all_data_NaN = all_data_nan[all_data_nan > 0]\n",
    "all_data_NaN"
   ]
  },
  {
   "cell_type": "markdown",
   "metadata": {},
   "source": [
    "## Dealing with missing data"
   ]
  },
  {
   "cell_type": "code",
   "execution_count": null,
   "metadata": {
    "collapsed": true
   },
   "outputs": [],
   "source": [
    "# imputing with Median and Mode\n",
    "all_data['MSZoning'] = all_data['MSZoning'].fillna('RL')\n",
    "\n",
    "# Impute the LotFrontage with median by nieghborhood\n",
    "all_data[\"LotFrontage\"] = all_data.groupby(\"Neighborhood\")[\"LotFrontage\"].transform(lambda x: x.fillna(x.median()))\n",
    "\n",
    "all_data['MasVnrArea'] = all_data['MasVnrArea'].fillna(all_data['MasVnrArea'].median())\n",
    "\n",
    "all_data['BsmtExposure']= all_data['BsmtExposure'].fillna('No')\n",
    "\n",
    "all_data['KitchenQual'] = all_data['KitchenQual'].fillna('Gd')\n",
    "\n",
    "all_data['Functional'] = all_data['Functional'].fillna('Typ')\n",
    "\n",
    "all_data['GarageCars']= all_data['GarageCars'].fillna(2)\n",
    "\n",
    "all_data['SaleType'] = all_data['SaleType'].fillna('WD')\n",
    "\n",
    "all_data['Bsmt_Total'] = all_data['Bsmt_Total'].fillna(all_data['Bsmt_Total'].median())\n",
    "\n",
    "all_data['Garage_Total'] = all_data['Garage_Total'].fillna(all_data['Garage_Total'].median())\n",
    "\n",
    "all_data['Bath'] = all_data['Bath'].fillna(all_data['Bath'].median())\n",
    "\n",
    "all_data['BsmtFinSF_Total'] = all_data['BsmtFinSF_Total'].fillna(all_data['BsmtFinSF_Total'].median())\n",
    "\n",
    "all_data['Has_BsmtFin'] = all_data['Has_BsmtFin'].fillna(all_data['Has_BsmtFin'].median())\n",
    "\n",
    "all_data['SF_QualFinished'] = all_data['SF_QualFinished'].fillna(all_data['SF_QualFinished'].median())\n",
    "\n",
    "all_data['SF_Total'] = all_data['SF_Total'].fillna(all_data['SF_Total'].median())"
   ]
  },
  {
   "cell_type": "code",
   "execution_count": null,
   "metadata": {
    "collapsed": true
   },
   "outputs": [],
   "source": [
    "#Looking of Missing Value in train\n",
    "all_data_NA = all_data.isnull()\n",
    "all_data_nan = all_data_NA[all_data_NA == 1].count()\n",
    "#Drop all columns that have no missing value \n",
    "all_data_NaN = all_data_nan[all_data_nan > 0]\n",
    "all_data_NaN"
   ]
  },
  {
   "cell_type": "markdown",
   "metadata": {},
   "source": [
    "## Transforming variables"
   ]
  },
  {
   "cell_type": "code",
   "execution_count": null,
   "metadata": {
    "collapsed": true
   },
   "outputs": [],
   "source": [
    "# #Transforming numerical variables\n",
    "all_data['GrLivArea'] = np.log(all_data['GrLivArea'])"
   ]
  },
  {
   "cell_type": "code",
   "execution_count": null,
   "metadata": {
    "collapsed": true
   },
   "outputs": [],
   "source": [
    "all_data.info()"
   ]
  },
  {
   "cell_type": "code",
   "execution_count": null,
   "metadata": {
    "collapsed": true
   },
   "outputs": [],
   "source": [
    "# Create Dummies for the rest of the categorical variables\n",
    "all_data = pd.get_dummies(all_data)\n",
    "all_data.shape"
   ]
  },
  {
   "cell_type": "markdown",
   "metadata": {},
   "source": [
    "# Modeling"
   ]
  },
  {
   "cell_type": "code",
   "execution_count": null,
   "metadata": {
    "collapsed": true
   },
   "outputs": [],
   "source": [
    "#Get new Train and Test dataset\n",
    "train =all_data[:ntrain]\n",
    "test= all_data[ntrain:]\n",
    "\n",
    "# Creating X and Y \n",
    "# y = df_train['SalePrice']\n",
    "# x = df_train.loc[:, df_train.columns != 'SalePrice']\n",
    "test.shape"
   ]
  },
  {
   "cell_type": "code",
   "execution_count": null,
   "metadata": {
    "collapsed": true
   },
   "outputs": [],
   "source": [
    "# Import modules for modeliing\n",
    "from sklearn.model_selection import KFold, cross_val_score, train_test_split, GridSearchCV, cross_val_predict\n",
    "from sklearn.linear_model import ElasticNet, Lasso,  BayesianRidge, LassoLarsIC, Ridge\n",
    "from sklearn.kernel_ridge import KernelRidge\n",
    "import xgboost as xgb\n",
    "from sklearn.feature_selection import SelectFromModel, f_regression, RFE\n",
    "from sklearn.pipeline import make_pipeline\n",
    "from sklearn.preprocessing import RobustScaler\n",
    "from sklearn.ensemble import RandomForestRegressor,  GradientBoostingRegressor\n",
    "from sklearn.base import BaseEstimator, TransformerMixin, RegressorMixin, clone\n",
    "from sklearn.metrics import mean_squared_error"
   ]
  },
  {
   "cell_type": "markdown",
   "metadata": {},
   "source": [
    "## Feature Selection"
   ]
  },
  {
   "cell_type": "code",
   "execution_count": null,
   "metadata": {
    "collapsed": true
   },
   "outputs": [],
   "source": [
    "# Using RFE perform feature selection on the dataset\n",
    "# feature extraction\n",
    "model = Lasso(alpha =10 ,random_state=4)\n",
    "rfe = RFE(model, 15)\n",
    "fit = rfe.fit(train, y_train)\n",
    "print(fit.n_features_)\n",
    "fit1 = fit.support_\n",
    "print(fit.ranking_)"
   ]
  },
  {
   "cell_type": "code",
   "execution_count": null,
   "metadata": {
    "collapsed": true
   },
   "outputs": [],
   "source": [
    "feature_list = dict(zip(train.columns, fit1))"
   ]
  },
  {
   "cell_type": "code",
   "execution_count": null,
   "metadata": {
    "collapsed": true
   },
   "outputs": [],
   "source": [
    "#Def function to iterate each key and print out matching input value\n",
    "def find_key(input_dict, value):\n",
    "    return {k for k, v in input_dict.items() if v == value}"
   ]
  },
  {
   "cell_type": "code",
   "execution_count": null,
   "metadata": {
    "collapsed": true
   },
   "outputs": [],
   "source": [
    "#Looking into feature_list and select all thats true, Top 15 Feature selected\n",
    "top_features = find_key(feature_list, True)\n",
    "features = list(top_features)\n",
    "features"
   ]
  },
  {
   "cell_type": "code",
   "execution_count": null,
   "metadata": {
    "collapsed": true
   },
   "outputs": [],
   "source": [
    "#Recreate new feature list call x_new and use that to predict all models \n",
    "x_new = train[features]\n",
    "#Check shape to ensure it is only using the new x\n",
    "train.head()"
   ]
  },
  {
   "cell_type": "markdown",
   "metadata": {},
   "source": [
    "## Creating Baseline Models"
   ]
  },
  {
   "cell_type": "code",
   "execution_count": null,
   "metadata": {
    "collapsed": true
   },
   "outputs": [],
   "source": [
    "#Set up Ridge regression\n",
    "ridge = Ridge(alpha = 100, normalize=True)\n",
    "\n",
    "# Perform 5-fold cross validation\n",
    "scores = cross_val_score(ridge, train[features], y_train, cv=5)\n",
    "\n",
    "# Make cross validated predictions\n",
    "CV_ridge_pred = cross_val_predict(ridge, train[features], y_train, cv=5)\n",
    "\n",
    "# MSE for validation\n",
    "rmse= np.sqrt(mean_squared_error(y_train,CV_ridge_pred))\n",
    "print(rmse/720100)"
   ]
  },
  {
   "cell_type": "code",
   "execution_count": null,
   "metadata": {
    "collapsed": true
   },
   "outputs": [],
   "source": [
    "# Lasso\n",
    "lasso = make_pipeline(RobustScaler(), Lasso(alpha =10 ,random_state=4))\n",
    "\n",
    "# Perform 5-fold cross validation\n",
    "scores = cross_val_score(lasso, train[features], y_train, cv=5)\n",
    "\n",
    "# Make cross validated predictions\n",
    "CV_lasso_pred = cross_val_predict(lasso, train[features], y_train, cv=5)\n",
    "\n",
    "# MSE for validation\n",
    "MSE = mean_squared_error(y_train,CV_lasso_pred)\n",
    "rmse = np.sqrt(mean_squared_error(y_train, CV_lasso_pred))\n",
    "print(rmse/720100)"
   ]
  },
  {
   "cell_type": "code",
   "execution_count": null,
   "metadata": {
    "collapsed": true
   },
   "outputs": [],
   "source": [
    "#Perform CV on model to see if the prediction is close\n",
    "# Param\n",
    "params = {'lasso__alpha': [0.1, 1.0, 10.0]}\n",
    "lasso_cv = GridSearchCV(lasso,params, cv=5)\n",
    "lasso_cv.fit(train[features],y_train)\n",
    "print(lasso_cv.best_params_)\n",
    "print(lasso_cv.best_score_)"
   ]
  },
  {
   "cell_type": "code",
   "execution_count": null,
   "metadata": {
    "collapsed": true
   },
   "outputs": [],
   "source": [
    "# ENEt\n",
    "ENet = make_pipeline(RobustScaler(), ElasticNet(alpha=533, l1_ratio=.9, random_state=1))\n",
    "\n",
    "# Perform 5-fold cross validation\n",
    "scores = cross_val_score(ENet, train[features], y_train, cv=5)\n",
    "\n",
    "# Make cross validated predictions\n",
    "CV_ENet_pred = cross_val_predict(ENet, train[features], y_train, cv=5)\n",
    "\n",
    "# MSE for validation\n",
    "MSE = mean_squared_error(y_train,CV_ENet_pred )\n",
    "rmse = np.sqrt(mean_squared_error(y_train, CV_ENet_pred ))\n",
    "print(rmse/720100)"
   ]
  },
  {
   "cell_type": "code",
   "execution_count": null,
   "metadata": {
    "collapsed": true
   },
   "outputs": [],
   "source": [
    "#GBoost\n",
    "GBoost = GradientBoostingRegressor(n_estimators=3000, learning_rate=0.05,max_depth=4, max_features='sqrt',min_samples_leaf=15, min_samples_split=10, loss='huber', random_state =5)\n",
    "# Perform 5-fold cross validation\n",
    "scores = cross_val_score(GBoost, train[features], y_train, cv=5)\n",
    "\n",
    "# Make cross validated predictions\n",
    "CV_gb_pred = cross_val_predict(GBoost, train[features], y_train, cv=5)\n",
    "\n",
    "# MSE for validation\n",
    "MSE = mean_squared_error(y_train,CV_xb_pred )\n",
    "rmse = np.sqrt(mean_squared_error(y_train, CV_gb_pred ))\n",
    "print(rmse/720100)"
   ]
  },
  {
   "cell_type": "markdown",
   "metadata": {},
   "source": [
    "# Stacking Models"
   ]
  },
  {
   "cell_type": "code",
   "execution_count": null,
   "metadata": {
    "collapsed": true
   },
   "outputs": [],
   "source": [
    "# Using a function to Stack base models with meta models through CV prediction of 5-fold in train data\n",
    "class StackingAveragedModels(BaseEstimator, RegressorMixin, TransformerMixin):\n",
    "    def __init__(self, base_models, meta_model, n_folds=5):\n",
    "        self.base_models = base_models\n",
    "        self.meta_model = meta_model\n",
    "        self.n_folds = n_folds\n",
    "   \n",
    "    # We again fit the data on clones of the original models\n",
    "    def fit(self, X, y):\n",
    "        self.base_models_ = [list() for x in self.base_models]\n",
    "        self.meta_model_ = clone(self.meta_model)\n",
    "        kfold = KFold(n_splits=self.n_folds, shuffle=True, random_state=156)\n",
    "        \n",
    "        # Train cloned base models then create out-of-fold predictions\n",
    "        # that are needed to train the cloned meta-model\n",
    "        out_of_fold_predictions = np.zeros((X.shape[0], len(self.base_models)))\n",
    "        for i, model in enumerate(self.base_models):\n",
    "            for train_index, holdout_index in kfold.split(X, y):\n",
    "                instance = clone(model)\n",
    "                self.base_models_[i].append(instance)\n",
    "                instance.fit(X[train_index], y[train_index])\n",
    "                y_pred = instance.predict(X[holdout_index])\n",
    "                out_of_fold_predictions[holdout_index, i] = y_pred\n",
    "                \n",
    "        # Now train the cloned  meta-model using the out-of-fold predictions as new feature\n",
    "        self.meta_model_.fit(out_of_fold_predictions, y)\n",
    "        return self\n",
    "   \n",
    "    #Do the predictions of all base models on the test data and use the averaged predictions as \n",
    "    #meta-features for the final prediction which is done by the meta-model\n",
    "    def predict(self, X):\n",
    "        meta_features = np.column_stack([\n",
    "            np.column_stack([model.predict(X) for model in base_models]).mean(axis=1)\n",
    "            for base_models in self.base_models_ ])\n",
    "        return self.meta_model_.predict(meta_features)"
   ]
  },
  {
   "cell_type": "code",
   "execution_count": null,
   "metadata": {
    "collapsed": true
   },
   "outputs": [],
   "source": [
    "#XGBoost\n",
    "model_xgb = xgb.XGBRegressor(colsample_bytree=0.4603, gamma=0.0468, learning_rate=0.05, max_depth=3, min_child_weight=1.7817, n_estimators=2200,reg_alpha=0.4640, reg_lambda=0.8571,subsample=0.5213, silent=1, random_state =7, nthread = -1)\n",
    "stacked_averaged_models = StackingAveragedModels(base_models = (ENet, GBoost,ridge, lasso), meta_model = model_xgb)\n",
    "\n",
    "stacked_averaged_models.fit(x_new.values, y_train)\n",
    "stacked_train_pred = stacked_averaged_models.predict(train[features].values)\n",
    "stacked_pred = (stacked_averaged_models.predict(test[features].values))\n",
    "print(mean_squared_error(y_train, stacked_train_pred))\n",
    "print(rmse/720100)"
   ]
  },
  {
   "cell_type": "code",
   "execution_count": null,
   "metadata": {
    "collapsed": true
   },
   "outputs": [],
   "source": [
    "# final_pred = pd.DataFrame()\n",
    "# final_pred['Id'] = test_id\n",
    "# final_pred['SalePrice'] = stacked_pred\n",
    "# final_pred.to_csv('Competition#2_Final_Prediction.csv', index= False)"
   ]
  },
  {
   "cell_type": "code",
   "execution_count": null,
   "metadata": {
    "collapsed": true
   },
   "outputs": [],
   "source": [
    "train_price = pd.read_csv('train.csv')\n",
    "test_price = pd.read_csv('Competition#2_Test_results.csv')"
   ]
  },
  {
   "cell_type": "code",
   "execution_count": null,
   "metadata": {
    "collapsed": true
   },
   "outputs": [],
   "source": [
    "GrLivArea_box = sns.regplot(x='GrLivArea', y='SalePrice', data=train_price, label='train')\n",
    "test = sns.regplot(x='GrLivArea', y='SalePrice', data = test_price, label='Predicted')\n",
    "plt.legend()\n",
    "plt.show()"
   ]
  },
  {
   "cell_type": "code",
   "execution_count": null,
   "metadata": {
    "collapsed": true
   },
   "outputs": [],
   "source": [
    "#Group by Fire Colcreek in Sale Price\n",
    "colcreek = df_train[df_train['Neighborhood']== \"CollgCr\"]\n",
    "\n",
    "colcreek_fire = colcreek[colcreek['Fireplaces']==1]\n",
    "colcreek_No = colcreek[colcreek['Fireplaces']==0]\n",
    "\n",
    "#Fireplace and no fire place for sale price in Colcreek Sale Price\n",
    "Fireplace_col = sns.distplot(colcreek_fire['SalePrice'], label='Yes FP')\n",
    "NoFireplace_col = sns.distplot(colcreek_No['SalePrice'], label='No FP')\n",
    "plt.legend()\n",
    "plt.show()"
   ]
  }
 ],
 "metadata": {
  "kernelspec": {
   "display_name": "Python 3",
   "language": "python",
   "name": "python3"
  },
  "language_info": {
   "codemirror_mode": {
    "name": "ipython",
    "version": 3
   },
   "file_extension": ".py",
   "mimetype": "text/x-python",
   "name": "python",
   "nbconvert_exporter": "python",
   "pygments_lexer": "ipython3",
   "version": "3.6.1"
  }
 },
 "nbformat": 4,
 "nbformat_minor": 2
}
